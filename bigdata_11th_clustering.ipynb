{
 "cells": [
  {
   "cell_type": "code",
   "execution_count": 126,
   "id": "03a013d5",
   "metadata": {},
   "outputs": [],
   "source": [
    "from sklearn.datasets import make_blobs"
   ]
  },
  {
   "cell_type": "code",
   "execution_count": 127,
   "id": "a6447cf8",
   "metadata": {},
   "outputs": [],
   "source": [
    "X, y = make_blobs(n_samples=100, centers=4, cluster_std=0.60, random_state=0)"
   ]
  },
  {
   "cell_type": "code",
   "execution_count": 128,
   "id": "48fb590c",
   "metadata": {},
   "outputs": [
    {
     "name": "stdout",
     "output_type": "stream",
     "text": [
      "(100, 2)\n",
      "(100,)\n"
     ]
    }
   ],
   "source": [
    "print(X.shape)\n",
    "print(y.shape)"
   ]
  },
  {
   "cell_type": "code",
   "execution_count": 141,
   "id": "d2b28fcf",
   "metadata": {},
   "outputs": [],
   "source": [
    "def normDist(x1, x2):\n",
    "    dist = np.linalg.norm(x1 - x2)\n",
    "    return dist"
   ]
  },
  {
   "cell_type": "code",
   "execution_count": 143,
   "id": "146545cb",
   "metadata": {},
   "outputs": [],
   "source": [
    "def cluster(x, k, centroids):\n",
    "    row, col = x.shape\n",
    "    clusterAssigned = np.zeros(shape=(row, 2), dtype=float)\n",
    "    clusterUpdated=True\n",
    "    iter = 1\n",
    "    while(clusterUpdated):\n",
    "        print (\"\\n\\n====== Iteration {} ======\".format(iter))\n",
    "        # STEP 1: assign to closer cluster\n",
    "        for i in range(row):\n",
    "            minDist = np.inf \n",
    "            minIndex = -1   \n",
    "            for j in range(k):\n",
    "                distJI = normDist(centroids[j], x[i])\n",
    "                if distJI < minDist:\n",
    "                    minDist = distJI\n",
    "                    minIndex = j\n",
    "#             print (\".....Assigning {} to {}th centroid by {:.3f}\".format(x[i], minIndex, minDist))\n",
    "            clusterAssigned[i] = [minIndex, minDist]   #-----changed\n",
    "#         print (\"\\n.....Assigned clusters: \\n {}\".format(clusterAssigned))\n",
    "        # STEP 2: update centroids\n",
    "        _centroids=np.zeros(shape = (k, x.shape[1]), dtype=float)\n",
    "        for cent in range(k):\n",
    "            _centroids[cent] = np.mean(x[clusterAssigned[:,0]==cent],axis=0)\n",
    "        # STEP 3: see if centroids is updated. STOP if NOT updated\n",
    "        comparison = np.equal(centroids, _centroids) \n",
    "        if(comparison.all() == True):\n",
    "            print (\"\\n.....NOT Updating Centroids\\n {} => \\n{}\".format(centroids, _centroids))\n",
    "            clusterUpdated = False\n",
    "            return centroids, clusterAssigned\n",
    "        else:\n",
    "            print (\"\\n.....Updating Centroids\\n {} => \\n{}\".format(centroids, _centroids))\n",
    "            centroids = _centroids\n",
    "            iter += 1"
   ]
  },
  {
   "cell_type": "code",
   "execution_count": 146,
   "id": "c7f51ee6",
   "metadata": {},
   "outputs": [],
   "source": [
    "def draw(x, centroids):\n",
    "    plt.scatter(x[:,0], x[:,1], color='blue')\n",
    "    plt.scatter(centroids[:,0], centroids[:,1], color='red')"
   ]
  },
  {
   "cell_type": "code",
   "execution_count": 130,
   "id": "0ad80229",
   "metadata": {},
   "outputs": [],
   "source": [
    "import matplotlib.pyplot as plt\n",
    "import numpy as np\n",
    "import random"
   ]
  },
  {
   "cell_type": "code",
   "execution_count": 131,
   "id": "fcab953d",
   "metadata": {
    "scrolled": true
   },
   "outputs": [
    {
     "name": "stdout",
     "output_type": "stream",
     "text": [
      "[[-1.9367369661928118, 1], [-1.8688014798168289, 0], [1.356177616962864, 3], [-1.5859755278771648, 2]]\n"
     ]
    }
   ],
   "source": [
    "# 초기 중심점 4개 설정\n",
    "samplex= random.sample(list(X), 4)\n",
    "samplex= [samplex[0][0], samplex[1][0], samplex[2][0], samplex[3][0]]\n",
    "sampley= random.sample(list(y), 4)\n",
    "sample=[]\n",
    "for i in range(4):\n",
    "    sample.append([samplex[i], sampley[i]])\n",
    "print(sample)"
   ]
  },
  {
   "cell_type": "markdown",
   "id": "faca55a9",
   "metadata": {},
   "source": [
    "초기 중심점 설정을 dataset 중 랜덤으로 잡아서 설정했었는데, 10000번 넘게 돌아도 수렴이 되지 않아 강의자료를 참고하여 중심점을 설정하였습니다."
   ]
  },
  {
   "cell_type": "code",
   "execution_count": 145,
   "id": "03f99eb3",
   "metadata": {},
   "outputs": [
    {
     "name": "stdout",
     "output_type": "stream",
     "text": [
      "\n",
      "\n",
      "====== Iteration 1 ======\n",
      "\n",
      ".....Updating Centroids\n",
      " [[-3.  3.]\n",
      " [-3.  8.]\n",
      " [ 2.  4.]\n",
      " [ 2.  1.]] => \n",
      "[[-1.63043905  3.09879034]\n",
      " [-1.27208964  7.74944718]\n",
      " [ 0.78627354  4.2491454 ]\n",
      " [ 1.97918933  0.97920012]]\n",
      "\n",
      "\n",
      "====== Iteration 2 ======\n",
      "\n",
      ".....Updating Centroids\n",
      " [[-1.63043905  3.09879034]\n",
      " [-1.27208964  7.74944718]\n",
      " [ 0.78627354  4.2491454 ]\n",
      " [ 1.97918933  0.97920012]] => \n",
      "[[-1.5772186   3.11456071]\n",
      " [-1.27208964  7.74944718]\n",
      " [ 0.83044547  4.27831711]\n",
      " [ 1.97918933  0.97920012]]\n",
      "\n",
      "\n",
      "====== Iteration 3 ======\n",
      "\n",
      ".....NOT Updating Centroids\n",
      " [[-1.5772186   3.11456071]\n",
      " [-1.27208964  7.74944718]\n",
      " [ 0.83044547  4.27831711]\n",
      " [ 1.97918933  0.97920012]] => \n",
      "[[-1.5772186   3.11456071]\n",
      " [-1.27208964  7.74944718]\n",
      " [ 0.83044547  4.27831711]\n",
      " [ 1.97918933  0.97920012]]\n"
     ]
    }
   ],
   "source": [
    "k=4\n",
    "centroids = np.array([[-3,3], [-3,8], [2,4], [2,1]], dtype = float)\n",
    "centorids, clusterAssigned= cluster(X, k, centroids)"
   ]
  },
  {
   "cell_type": "code",
   "execution_count": 148,
   "id": "2a24888e",
   "metadata": {},
   "outputs": [
    {
     "data": {
      "image/png": "[encoded data removed]",
      "text/plain": [
       "<Figure size 432x288 with 1 Axes>"
      ]
     },
     "metadata": {
      "needs_background": "light"
     },
     "output_type": "display_data"
    }
   ],
   "source": [
    "draw(X, centorids)"
   ]
  },
  {
   "cell_type": "code",
   "execution_count": null,
   "id": "1f3a1d08",
   "metadata": {},
   "outputs": [],
   "source": []
  }
 ],
 "metadata": {
  "kernelspec": {
   "display_name": "conda_python3",
   "language": "python",
   "name": "conda_python3"
  },
  "language_info": {
   "codemirror_mode": {
    "name": "ipython",
    "version": 3
   },
   "file_extension": ".py",
   "mimetype": "text/x-python",
   "name": "python",
   "nbconvert_exporter": "python",
   "pygments_lexer": "ipython3",
   "version": "3.6.13"
  }
 },
 "nbformat": 4,
 "nbformat_minor": 5
}
