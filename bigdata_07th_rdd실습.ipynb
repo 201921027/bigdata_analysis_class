{
 "cells": [
  {
   "cell_type": "code",
   "execution_count": 1,
   "id": "89b69950",
   "metadata": {},
   "outputs": [],
   "source": [
    "import pyspark\n",
    "\n",
    "myConf= pyspark.SparkConf()\n",
    "\n",
    "spark = pyspark.sql.SparkSession\\\n",
    "    .builder\\\n",
    "    .master('local')\\\n",
    "    .appName('myApp')\\\n",
    "    .config(conf=myConf)\\\n",
    "    .getOrCreate()"
   ]
  },
  {
   "cell_type": "code",
   "execution_count": 2,
   "id": "5935da82",
   "metadata": {},
   "outputs": [],
   "source": [
    "marks=[\n",
    "    \"김하나, English, 100\",\n",
    "    \"김하나, Math, 80\",\n",
    "    \"임하나, English, 70\",\n",
    "    \"임하나, Math, 100\",\n",
    "    \"김갑돌, English, 82.3\",\n",
    "    \"김갑돌, Math, 98.5\"]"
   ]
  },
  {
   "cell_type": "markdown",
   "id": "670e2eac",
   "metadata": {},
   "source": [
    "### 1-1 성적데이터로 DataFrame을 생성"
   ]
  },
  {
   "cell_type": "code",
   "execution_count": 3,
   "id": "c039b511",
   "metadata": {},
   "outputs": [],
   "source": [
    "_rdd= spark.sparkContext.parallelize(marks)"
   ]
  },
  {
   "cell_type": "code",
   "execution_count": 4,
   "id": "223d0194",
   "metadata": {},
   "outputs": [],
   "source": [
    "myrdd= _rdd\\\n",
    "    .map(lambda data: data.split(', '))\\\n",
    "    .map(lambda data: (data[0], data[1], float(data[2])))\\\n",
    "    .collect()"
   ]
  },
  {
   "cell_type": "code",
   "execution_count": 5,
   "id": "b68c3ee1",
   "metadata": {},
   "outputs": [],
   "source": [
    "from pyspark.sql.types import StructType, StructField\n",
    "from pyspark.sql.types import StringType, FloatType\n",
    "\n",
    "_schema= StructType([\n",
    "    StructField(\"name\", StringType(), True),\n",
    "    StructField(\"subject\",StringType(), True),\n",
    "    StructField(\"score\", FloatType(), True)\n",
    "])"
   ]
  },
  {
   "cell_type": "code",
   "execution_count": 6,
   "id": "44e26c47",
   "metadata": {},
   "outputs": [],
   "source": [
    "myDf= spark.createDataFrame(myrdd, _schema)"
   ]
  },
  {
   "cell_type": "code",
   "execution_count": 7,
   "id": "6825a5d5",
   "metadata": {},
   "outputs": [
    {
     "name": "stdout",
     "output_type": "stream",
     "text": [
      "+------+-------+-----+\n",
      "|  name|subject|score|\n",
      "+------+-------+-----+\n",
      "|김하나|English|100.0|\n",
      "|김하나|   Math| 80.0|\n",
      "|임하나|English| 70.0|\n",
      "|임하나|   Math|100.0|\n",
      "|김갑돌|English| 82.3|\n",
      "|김갑돌|   Math| 98.5|\n",
      "+------+-------+-----+\n",
      "\n"
     ]
    }
   ],
   "source": [
    "myDf.show()"
   ]
  },
  {
   "cell_type": "markdown",
   "id": "38461012",
   "metadata": {},
   "source": [
    "### 1-2 zscore 컬럼을 생성"
   ]
  },
  {
   "cell_type": "code",
   "execution_count": 8,
   "id": "31ef9128",
   "metadata": {
    "scrolled": true
   },
   "outputs": [
    {
     "name": "stdout",
     "output_type": "stream",
     "text": [
      "+-----------------+------------------+\n",
      "|              avg|               std|\n",
      "+-----------------+------------------+\n",
      "|88.46666717529297|12.786190172956093|\n",
      "+-----------------+------------------+\n",
      "\n"
     ]
    }
   ],
   "source": [
    "from pyspark.sql.functions import mean\n",
    "from pyspark.sql.functions import stddev\n",
    "\n",
    "zsDf=myDf\\\n",
    "    .agg(mean(myDf.score).alias('avg'), stddev(myDf.score).alias('std'))\n",
    "zsDf.show()"
   ]
  },
  {
   "cell_type": "code",
   "execution_count": 9,
   "id": "d746de89",
   "metadata": {},
   "outputs": [
    {
     "name": "stdout",
     "output_type": "stream",
     "text": [
      "[[88.46666717529297, 12.786190172956093]]\n"
     ]
    }
   ],
   "source": [
    "avg_std= zsDf.rdd.map(lambda data: [data[0], data[1]]).collect()\n",
    "print(avg_std)"
   ]
  },
  {
   "cell_type": "code",
   "execution_count": 10,
   "id": "741f39a1",
   "metadata": {
    "scrolled": true
   },
   "outputs": [
    {
     "name": "stdout",
     "output_type": "stream",
     "text": [
      "+------+-------+-----+-------------------+\n",
      "|  name|subject|score|             zscore|\n",
      "+------+-------+-----+-------------------+\n",
      "|김하나|English|100.0|  0.902014804151829|\n",
      "|김하나|   Math| 80.0| -0.662172786480269|\n",
      "|임하나|English| 70.0| -1.444266581796318|\n",
      "|임하나|   Math|100.0|  0.902014804151829|\n",
      "|김갑돌|English| 82.3|-0.4822909748814927|\n",
      "|김갑돌|   Math| 98.5| 0.7847007348544217|\n",
      "+------+-------+-----+-------------------+\n",
      "\n"
     ]
    }
   ],
   "source": [
    "myDf= myDf.withColumn('zscore', (myDf['score']-avg_std[0][0])/avg_std[0][1])\n",
    "myDf.show()"
   ]
  },
  {
   "cell_type": "markdown",
   "id": "e14b0963",
   "metadata": {},
   "source": [
    "### 1-3 cdf 컬럼을 생성"
   ]
  },
  {
   "cell_type": "code",
   "execution_count": 11,
   "id": "70c4a338",
   "metadata": {
    "scrolled": true
   },
   "outputs": [],
   "source": [
    "from scipy.stats import norm\n",
    "from pyspark.sql.functions import udf\n",
    "\n",
    "cdfudf= udf(lambda data: float(norm.cdf(data)))\n",
    "# !!!!!\n",
    "#udf(lambda data: norm.cdf(data)) -> return type: 'numpy.float64'\n",
    "#udf(lambda data: float(norm.cdf(data))) -> return type: 'float'"
   ]
  },
  {
   "cell_type": "code",
   "execution_count": 12,
   "id": "a1f4390a",
   "metadata": {},
   "outputs": [
    {
     "name": "stdout",
     "output_type": "stream",
     "text": [
      "+------+-------+-----+-------------------+-------------------+\n",
      "|  name|subject|score|             zscore|                cdf|\n",
      "+------+-------+-----+-------------------+-------------------+\n",
      "|김하나|English|100.0|  0.902014804151829| 0.8164754981807292|\n",
      "|김하나|   Math| 80.0| -0.662172786480269| 0.2539302463290559|\n",
      "|임하나|English| 70.0| -1.444266581796318| 0.0743320011235712|\n",
      "|임하나|   Math|100.0|  0.902014804151829| 0.8164754981807292|\n",
      "|김갑돌|English| 82.3|-0.4822909748814927|0.31479962882028223|\n",
      "|김갑돌|   Math| 98.5| 0.7847007348544217| 0.7836854740814176|\n",
      "+------+-------+-----+-------------------+-------------------+\n",
      "\n"
     ]
    }
   ],
   "source": [
    "myDf= myDf\\\n",
    "    .withColumn('cdf', cdfudf(myDf['zscore']))\n",
    "myDf.show()"
   ]
  },
  {
   "cell_type": "code",
   "execution_count": null,
   "id": "a067db35",
   "metadata": {},
   "outputs": [],
   "source": []
  }
 ],
 "metadata": {
  "kernelspec": {
   "display_name": "conda_python3",
   "language": "python",
   "name": "conda_python3"
  },
  "language_info": {
   "codemirror_mode": {
    "name": "ipython",
    "version": 3
   },
   "file_extension": ".py",
   "mimetype": "text/x-python",
   "name": "python",
   "nbconvert_exporter": "python",
   "pygments_lexer": "ipython3",
   "version": "3.6.13"
  }
 },
 "nbformat": 4,
 "nbformat_minor": 5
}
