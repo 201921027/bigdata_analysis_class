{
 "cells": [
  {
   "cell_type": "code",
   "execution_count": 1,
   "id": "876c0437",
   "metadata": {},
   "outputs": [],
   "source": [
    "import pyspark\n",
    "import os"
   ]
  },
  {
   "cell_type": "code",
   "execution_count": 2,
   "id": "d485528b",
   "metadata": {},
   "outputs": [],
   "source": [
    "myConf= pyspark.SparkConf()\n",
    "\n",
    "spark= pyspark.sql.SparkSession\\\n",
    "    .builder\\\n",
    "    .master('local')\\\n",
    "    .appName('myApp')\\\n",
    "    .config(conf=myConf)\\\n",
    "    .getOrCreate()"
   ]
  },
  {
   "cell_type": "code",
   "execution_count": 3,
   "id": "043339c9",
   "metadata": {},
   "outputs": [],
   "source": [
    "myList= [('김하나', \"English\", 100),\n",
    "        ('김하나', \"Math\", 80),\n",
    "        ('임하나', \"English\", 70),\n",
    "        ('임하나', \"Math\", 100),\n",
    "        ('김갑돌', \"English\", 82.3),\n",
    "        ('김갑돌', \"Math\", 98.5)]"
   ]
  },
  {
   "cell_type": "code",
   "execution_count": 4,
   "id": "fd6c5a8c",
   "metadata": {},
   "outputs": [],
   "source": [
    "myRdd= spark.sparkContext\\\n",
    "    .parallelize(myList)"
   ]
  },
  {
   "cell_type": "code",
   "execution_count": 5,
   "id": "4fc63165",
   "metadata": {},
   "outputs": [
    {
     "name": "stdout",
     "output_type": "stream",
     "text": [
      "#partitions:  1\n"
     ]
    },
    {
     "data": {
      "text/plain": [
       "[('김하나', 'English', 100),\n",
       " ('김하나', 'Math', 80),\n",
       " ('임하나', 'English', 70),\n",
       " ('임하나', 'Math', 100),\n",
       " ('김갑돌', 'English', 82.3),\n",
       " ('김갑돌', 'Math', 98.5)]"
      ]
     },
     "execution_count": 5,
     "metadata": {},
     "output_type": "execute_result"
    }
   ],
   "source": [
    "print('#partitions: ', myRdd.getNumPartitions())\n",
    "myRdd.collect()"
   ]
  },
  {
   "cell_type": "markdown",
   "id": "d5a99f9e",
   "metadata": {},
   "source": [
    "### 문제 3-1"
   ]
  },
  {
   "cell_type": "code",
   "execution_count": 6,
   "id": "cbb7476d",
   "metadata": {},
   "outputs": [
    {
     "data": {
      "text/plain": [
       "[('김하나', 100.0),\n",
       " ('김하나', 80.0),\n",
       " ('임하나', 70.0),\n",
       " ('임하나', 100.0),\n",
       " ('김갑돌', 82.3),\n",
       " ('김갑돌', 98.5)]"
      ]
     },
     "execution_count": 6,
     "metadata": {},
     "output_type": "execute_result"
    }
   ],
   "source": [
    "myRdd.map(lambda x: (x[0], float(x[2]))).collect()"
   ]
  },
  {
   "cell_type": "code",
   "execution_count": 7,
   "id": "cd3ae0e8",
   "metadata": {},
   "outputs": [],
   "source": [
    "name_sum= myRdd.map(lambda x: (x[0], float(x[2])))\\\n",
    "    .combineByKey(lambda value: (value,1),\n",
    "                  lambda x, value: x[0]+value,\n",
    "                  lambda x, y: x+y)\\\n",
    "    .sortByKey(False)"
   ]
  },
  {
   "cell_type": "code",
   "execution_count": 8,
   "id": "60b2eff5",
   "metadata": {},
   "outputs": [
    {
     "data": {
      "text/plain": [
       "[('임하나', 170.0), ('김하나', 180.0), ('김갑돌', 180.8)]"
      ]
     },
     "execution_count": 8,
     "metadata": {},
     "output_type": "execute_result"
    }
   ],
   "source": [
    "name_sum.collect()"
   ]
  },
  {
   "cell_type": "code",
   "execution_count": 9,
   "id": "9f59e52a",
   "metadata": {},
   "outputs": [
    {
     "name": "stdout",
     "output_type": "stream",
     "text": [
      "'임하나' 170.0\n",
      "'김하나' 180.0\n",
      "'김갑돌' 180.8\n"
     ]
    }
   ],
   "source": [
    "name_sum_print= name_sum.collect()\n",
    "for i in name_sum_print:\n",
    "    print(\"'\"+i[0]+\"'\", i[1])"
   ]
  },
  {
   "cell_type": "markdown",
   "id": "84a38c49",
   "metadata": {},
   "source": [
    "### 문제 3-2"
   ]
  },
  {
   "cell_type": "code",
   "execution_count": 10,
   "id": "a32d65a1",
   "metadata": {},
   "outputs": [],
   "source": [
    "# myList= [('김하나', \"English\", 100),\n",
    "#         ('김하나', \"Math\", 80),\n",
    "#         ('임하나', \"English\", 70),\n",
    "#         ('임하나', \"Math\", 100),\n",
    "#         ('김갑돌', \"English\", 82.3),\n",
    "#         ('김갑돌', \"Math\", 98.5)]"
   ]
  },
  {
   "cell_type": "code",
   "execution_count": 11,
   "id": "91e55ab2",
   "metadata": {},
   "outputs": [
    {
     "data": {
      "text/plain": [
       "[('English', (252.3,)), ('Math', (278.5,))]"
      ]
     },
     "execution_count": 11,
     "metadata": {},
     "output_type": "execute_result"
    }
   ],
   "source": [
    "subject_sum= myRdd.map(lambda x: (x[1], float(x[2])))\\\n",
    "    .combineByKey(lambda value: (value, 1),\n",
    "                  lambda x, value: (x[0]+value, ),\n",
    "                  lambda x, y: x+y)\\\n",
    "    .sortByKey(True)\n",
    "subject_sum.collect()\n",
    "#name_sum을 할 때는 mergeValue에 count를 채우지 않아도 돌아갔는데,\n",
    "#subject_name을 할 때는 mergeValue에 count 자리를 마련해야만 돌아갑니다... 왜인지 모르겠습니다."
   ]
  },
  {
   "cell_type": "code",
   "execution_count": 12,
   "id": "f2d74e3b",
   "metadata": {},
   "outputs": [
    {
     "name": "stdout",
     "output_type": "stream",
     "text": [
      "'English' 252.3\n",
      "'Math' 278.5\n"
     ]
    }
   ],
   "source": [
    "subject_sum_print= subject_sum.collect()\n",
    "for i in subject_sum_print:\n",
    "    print(\"'\"+i[0]+\"'\", i[1][0])"
   ]
  },
  {
   "cell_type": "markdown",
   "id": "6698a89b",
   "metadata": {},
   "source": [
    "### 문제 3-3"
   ]
  },
  {
   "cell_type": "code",
   "execution_count": 13,
   "id": "db85e579",
   "metadata": {},
   "outputs": [],
   "source": [
    "name_sum_count= myRdd.map(lambda x: (x[0], float(x[2])))\\\n",
    "    .combineByKey(lambda value: (value,1),\n",
    "                  lambda x, value: (x[0]+value, x[1]+1),\n",
    "                  lambda x, y: x+y)\\\n",
    "    .sortByKey(False)"
   ]
  },
  {
   "cell_type": "code",
   "execution_count": 14,
   "id": "c17a4a94",
   "metadata": {},
   "outputs": [
    {
     "data": {
      "text/plain": [
       "[('임하나', (170.0, 2)), ('김하나', (180.0, 2)), ('김갑돌', (180.8, 2))]"
      ]
     },
     "execution_count": 14,
     "metadata": {},
     "output_type": "execute_result"
    }
   ],
   "source": [
    "name_sum_count.collect()"
   ]
  },
  {
   "cell_type": "code",
   "execution_count": 15,
   "id": "a0d79d17",
   "metadata": {},
   "outputs": [
    {
     "name": "stdout",
     "output_type": "stream",
     "text": [
      "'임하나' (170.0, 2)\n",
      "'김하나' (180.0, 2)\n",
      "'김갑돌' (180.8, 2)\n"
     ]
    }
   ],
   "source": [
    "name_sumCount_print= name_sum_count.collect()\n",
    "for i in name_sumCount_print:\n",
    "    print(\"'\"+i[0]+\"'\", i[1])"
   ]
  },
  {
   "cell_type": "markdown",
   "id": "60394089",
   "metadata": {},
   "source": [
    "### 문제 3-4"
   ]
  },
  {
   "cell_type": "code",
   "execution_count": 16,
   "id": "26e8605c",
   "metadata": {},
   "outputs": [],
   "source": [
    "name_avg= name_sum_count.map(lambda x:(x[0], x[1][0]/x[1][1]))"
   ]
  },
  {
   "cell_type": "code",
   "execution_count": 17,
   "id": "b73a7451",
   "metadata": {},
   "outputs": [
    {
     "data": {
      "text/plain": [
       "[('임하나', 85.0), ('김하나', 90.0), ('김갑돌', 90.4)]"
      ]
     },
     "execution_count": 17,
     "metadata": {},
     "output_type": "execute_result"
    }
   ],
   "source": [
    "name_avg.collect()"
   ]
  },
  {
   "cell_type": "code",
   "execution_count": 18,
   "id": "6e39d041",
   "metadata": {},
   "outputs": [
    {
     "name": "stdout",
     "output_type": "stream",
     "text": [
      "'임하나' 85.0\n",
      "'김하나' 90.0\n",
      "'김갑돌' 90.4\n"
     ]
    }
   ],
   "source": [
    "name_avg_print= name_avg.collect()\n",
    "for i in name_avg_print:\n",
    "    print(\"'\"+i[0]+\"'\", i[1])"
   ]
  },
  {
   "cell_type": "code",
   "execution_count": null,
   "id": "f7f35e1e",
   "metadata": {},
   "outputs": [],
   "source": []
  }
 ],
 "metadata": {
  "kernelspec": {
   "display_name": "conda_python3",
   "language": "python",
   "name": "conda_python3"
  },
  "language_info": {
   "codemirror_mode": {
    "name": "ipython",
    "version": 3
   },
   "file_extension": ".py",
   "mimetype": "text/x-python",
   "name": "python",
   "nbconvert_exporter": "python",
   "pygments_lexer": "ipython3",
   "version": "3.6.13"
  }
 },
 "nbformat": 4,
 "nbformat_minor": 5
}
