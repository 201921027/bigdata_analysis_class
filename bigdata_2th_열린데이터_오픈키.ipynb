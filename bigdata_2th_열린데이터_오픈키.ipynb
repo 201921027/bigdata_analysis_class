{
 "cells": [
  {
   "cell_type": "markdown",
   "id": "15aea84c",
   "metadata": {},
   "source": [
    "### cwd: 학번파일"
   ]
  },
  {
   "cell_type": "code",
   "execution_count": 1,
   "id": "947fd5af",
   "metadata": {},
   "outputs": [
    {
     "name": "stdout",
     "output_type": "stream",
     "text": [
      "C:\\Users\\82102\\201921027\n"
     ]
    }
   ],
   "source": [
    "!cd"
   ]
  },
  {
   "cell_type": "code",
   "execution_count": 2,
   "id": "57d4a62c",
   "metadata": {},
   "outputs": [
    {
     "name": "stdout",
     "output_type": "stream",
     "text": [
      "Overwriting src/mylib.py\n"
     ]
    }
   ],
   "source": [
    "%%writefile src/mylib.py\n",
    "def sayHello():\n",
    "    print(\"hello test\")\n",
    "    \n",
    "def getKey(keyPath): #라이브러리를 부를 때 전달인자로 key.properties 넘기는 것\n",
    "    d=dict()\n",
    "    f=open(keyPath,'r')\n",
    "    for line in f.readlines():\n",
    "        row=line.split('=')\n",
    "        row0=row[0] #인증키의 변수명 삽입됨\n",
    "        d[row0]=row[1].strip() #strip으로 공백 제거\n",
    "    return d"
   ]
  },
  {
   "cell_type": "code",
   "execution_count": 3,
   "id": "dffe8ed3",
   "metadata": {},
   "outputs": [
    {
     "name": "stdout",
     "output_type": "stream",
     "text": [
      "hello test\n",
      "None\n"
     ]
    }
   ],
   "source": [
    "from src import mylib\n",
    "print(mylib.sayHello())"
   ]
  },
  {
   "cell_type": "code",
   "execution_count": 4,
   "id": "6dba93be",
   "metadata": {},
   "outputs": [],
   "source": [
    "import os\n",
    "\n",
    "keyPath=os.path.join(os.getcwd(), 'src', 'key.properties')\n",
    "key=mylib.getKey(keyPath)"
   ]
  },
  {
   "cell_type": "code",
   "execution_count": 5,
   "id": "4148fe8b",
   "metadata": {},
   "outputs": [
    {
     "name": "stdout",
     "output_type": "stream",
     "text": [
      "dataseoul= 55506948556a656e37384d6b416449\n",
      "gokr= mKxos7I6exkQw03EUS%2B6eEbOusYL8dUNE3spM8tIg%2B9rX%2F%2FjvJ%2F3Dacft%2BroyOADwkpXeUiO1eHWMcBOm3wvZA%3D%3D\n"
     ]
    }
   ],
   "source": [
    "print('dataseoul= '+ key['dataseoul'])\n",
    "print('gokr= '+key['gokr'])"
   ]
  },
  {
   "cell_type": "code",
   "execution_count": null,
   "id": "bc90dc5c",
   "metadata": {},
   "outputs": [],
   "source": []
  }
 ],
 "metadata": {
  "kernelspec": {
   "display_name": "conda_python3",
   "language": "python",
   "name": "conda_python3"
  },
  "language_info": {
   "codemirror_mode": {
    "name": "ipython",
    "version": 3
   },
   "file_extension": ".py",
   "mimetype": "text/x-python",
   "name": "python",
   "nbconvert_exporter": "python",
   "pygments_lexer": "ipython3",
   "version": "3.6.13"
  }
 },
 "nbformat": 4,
 "nbformat_minor": 5
}
