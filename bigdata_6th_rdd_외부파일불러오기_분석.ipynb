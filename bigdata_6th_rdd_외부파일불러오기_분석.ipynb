{
 "cells": [
  {
   "cell_type": "code",
   "execution_count": 1,
   "id": "41130eaa",
   "metadata": {},
   "outputs": [],
   "source": [
    "import pyspark\n",
    "\n",
    "myConf=pyspark.SparkConf()\n",
    "\n",
    "spark= pyspark.sql.SparkSession\\\n",
    "    .builder\\\n",
    "    .master('local')\\\n",
    "    .appName('myApp')\\\n",
    "    .config(conf=myConf)\\\n",
    "    .getOrCreate()"
   ]
  },
  {
   "cell_type": "code",
   "execution_count": 2,
   "id": "58cd5d11",
   "metadata": {},
   "outputs": [
    {
     "name": "stdout",
     "output_type": "stream",
     "text": [
      "+----------+------+\n",
      "|     �뿩��|�뿩�Ǽ�|\n",
      "+----------+------+\n",
      "|2018-01-01|  4950|\n",
      "|2018-01-02|  7136|\n",
      "|2018-01-03|  7156|\n",
      "|2018-01-04|  7102|\n",
      "|2018-01-05|  7705|\n",
      "|2018-01-06|  5681|\n",
      "|2018-01-07|  5220|\n",
      "|2018-01-08|  6309|\n",
      "|2018-01-09|  5988|\n",
      "|2018-01-10|  4476|\n",
      "|2018-01-11|  4337|\n",
      "|2018-01-12|  4401|\n",
      "|2018-01-13|  3756|\n",
      "|2018-01-14|  4675|\n",
      "|2018-01-15|  6993|\n",
      "|2018-01-16|  7421|\n",
      "|2018-01-17|  6990|\n",
      "|2018-01-18|  7054|\n",
      "|2018-01-19|  8329|\n",
      "|2018-01-20|  6148|\n",
      "+----------+------+\n",
      "only showing top 20 rows\n",
      "\n"
     ]
    }
   ],
   "source": [
    "import os\n",
    "\n",
    "_myDf= spark\\\n",
    "    .read\\\n",
    "    .format('com.databricks.spark.csv')\\\n",
    "    .options(header=True, inferschema=False, delimiter=',')\\\n",
    "    .load(os.path.join('data', '서울특별시_공공자전거 일별 대여건수_(2018_2019.03).csv'))\n",
    "_myDf.show()"
   ]
  },
  {
   "cell_type": "code",
   "execution_count": 3,
   "id": "a50b7676",
   "metadata": {},
   "outputs": [],
   "source": [
    "import pandas as pd\n",
    "myDf_p=_myDf.toPandas()\n",
    "myDf_p.columns=['date', 'count']\n",
    "myDf=spark.createDataFrame(myDf_p)\n",
    "# _myDf.printSchema()"
   ]
  },
  {
   "cell_type": "markdown",
   "id": "9ad5b229",
   "metadata": {},
   "source": [
    "spark dataframe 상태로는 깨진 column명을 수정할 수 없어, \n",
    "pandas dataframe으로 변환하여 column명을 전체 수정한 뒤, 다시 대용량처리에 적합한 spark dataframe으로 변환하였습니다."
   ]
  },
  {
   "cell_type": "code",
   "execution_count": 4,
   "id": "f7a9fd09",
   "metadata": {},
   "outputs": [
    {
     "name": "stdout",
     "output_type": "stream",
     "text": [
      "+----------+-----+\n",
      "|      date|count|\n",
      "+----------+-----+\n",
      "|2018-01-01| 4950|\n",
      "|2018-01-02| 7136|\n",
      "|2018-01-03| 7156|\n",
      "|2018-01-04| 7102|\n",
      "|2018-01-05| 7705|\n",
      "|2018-01-06| 5681|\n",
      "|2018-01-07| 5220|\n",
      "|2018-01-08| 6309|\n",
      "|2018-01-09| 5988|\n",
      "|2018-01-10| 4476|\n",
      "|2018-01-11| 4337|\n",
      "|2018-01-12| 4401|\n",
      "|2018-01-13| 3756|\n",
      "|2018-01-14| 4675|\n",
      "|2018-01-15| 6993|\n",
      "|2018-01-16| 7421|\n",
      "|2018-01-17| 6990|\n",
      "|2018-01-18| 7054|\n",
      "|2018-01-19| 8329|\n",
      "|2018-01-20| 6148|\n",
      "+----------+-----+\n",
      "only showing top 20 rows\n",
      "\n"
     ]
    }
   ],
   "source": [
    "myDf.show()"
   ]
  },
  {
   "cell_type": "code",
   "execution_count": 5,
   "id": "bfb0ba32",
   "metadata": {},
   "outputs": [
    {
     "name": "stdout",
     "output_type": "stream",
     "text": [
      "+----------+-----+----+-----+\n",
      "|      date|count|year|month|\n",
      "+----------+-----+----+-----+\n",
      "|2018-01-01| 4950|2018|    1|\n",
      "|2018-01-02| 7136|2018|    1|\n",
      "|2018-01-03| 7156|2018|    1|\n",
      "|2018-01-04| 7102|2018|    1|\n",
      "|2018-01-05| 7705|2018|    1|\n",
      "|2018-01-06| 5681|2018|    1|\n",
      "|2018-01-07| 5220|2018|    1|\n",
      "|2018-01-08| 6309|2018|    1|\n",
      "|2018-01-09| 5988|2018|    1|\n",
      "|2018-01-10| 4476|2018|    1|\n",
      "|2018-01-11| 4337|2018|    1|\n",
      "|2018-01-12| 4401|2018|    1|\n",
      "|2018-01-13| 3756|2018|    1|\n",
      "|2018-01-14| 4675|2018|    1|\n",
      "|2018-01-15| 6993|2018|    1|\n",
      "|2018-01-16| 7421|2018|    1|\n",
      "|2018-01-17| 6990|2018|    1|\n",
      "|2018-01-18| 7054|2018|    1|\n",
      "|2018-01-19| 8329|2018|    1|\n",
      "|2018-01-20| 6148|2018|    1|\n",
      "+----------+-----+----+-----+\n",
      "only showing top 20 rows\n",
      "\n"
     ]
    }
   ],
   "source": [
    "from pyspark.sql.functions import when\n",
    "from pyspark.sql.functions import *\n",
    "\n",
    "# df= myDf.withColumn('year', (when(myDf.date.startswith('2019'), '2019').otherwise('2018')))\n",
    "df= myDf.withColumn('year', year(to_timestamp('date','yyyy-MM-dd')))\\\n",
    "    .withColumn('month', month(to_timestamp('date', 'yyyy-MM-dd')))\n",
    "df.show()"
   ]
  },
  {
   "cell_type": "markdown",
   "id": "c1f20f1c",
   "metadata": {},
   "source": [
    "### 문제 1-1: 년도별 대여건수 합계"
   ]
  },
  {
   "cell_type": "code",
   "execution_count": 6,
   "id": "a6295107",
   "metadata": {},
   "outputs": [
    {
     "name": "stdout",
     "output_type": "stream",
     "text": [
      "+----+----------+\n",
      "|year|sum(count)|\n",
      "+----+----------+\n",
      "|2018|  10124874|\n",
      "|2019|   1871935|\n",
      "+----+----------+\n",
      "\n"
     ]
    }
   ],
   "source": [
    "dy= df.groupBy('year').agg({'count':'sum'})\n",
    "dy= dy.withColumn('sum(count)', col('sum(count)').cast('integer'))\n",
    "dy.show()"
   ]
  },
  {
   "cell_type": "markdown",
   "id": "34886bb1",
   "metadata": {},
   "source": [
    "### 문제 1-2: 년도별, 월별 대여건수 합계"
   ]
  },
  {
   "cell_type": "code",
   "execution_count": 7,
   "id": "310fcac3",
   "metadata": {
    "scrolled": true
   },
   "outputs": [
    {
     "name": "stdout",
     "output_type": "stream",
     "text": [
      "+----+--------+--------+--------+--------+--------+---------+---------+---------+---------+---------+--------+--------+\n",
      "|year|       1|       2|       3|       4|       5|        6|        7|        8|        9|       10|      11|      12|\n",
      "+----+--------+--------+--------+--------+--------+---------+---------+---------+---------+---------+--------+--------+\n",
      "|2018|164367.0|168741.0|462661.0|687885.0|965609.0|1207123.0|1100015.0|1037505.0|1447993.0|1420621.0|961532.0|500822.0|\n",
      "|2019|495573.0|471543.0|904819.0|    null|    null|     null|     null|     null|     null|     null|    null|    null|\n",
      "+----+--------+--------+--------+--------+--------+---------+---------+---------+---------+---------+--------+--------+\n",
      "\n"
     ]
    }
   ],
   "source": [
    "dym= df.groupBy('year').pivot('month').agg({'count':'sum'})\n",
    "dym.show()"
   ]
  },
  {
   "cell_type": "markdown",
   "id": "da1f843e",
   "metadata": {},
   "source": [
    "### 문제 1-3: 년도별, 월별 대여건수 그래프"
   ]
  },
  {
   "cell_type": "code",
   "execution_count": 8,
   "id": "369f305b",
   "metadata": {},
   "outputs": [],
   "source": [
    "import matplotlib.pyplot as plt\n",
    "import numpy as np\n",
    "\n",
    "month_list= list(range(1,13))\n",
    "\n",
    "data= dym.rdd.map(lambda _data: _data[1:]).collect()\n",
    "data18= np.array(data)[0]\n",
    "data19= np.array(data)[1]"
   ]
  },
  {
   "cell_type": "code",
   "execution_count": 9,
   "id": "e12b9d48",
   "metadata": {},
   "outputs": [
    {
     "data": {
      "image/png": "[encoded data removed]",
      "text/plain": [
       "<Figure size 432x288 with 1 Axes>"
      ]
     },
     "metadata": {
      "needs_background": "light"
     },
     "output_type": "display_data"
    }
   ],
   "source": [
    "plt.plot(month_list, data18, marker='o')\n",
    "plt.plot(month_list, data19, marker='o')\n",
    "plt.xlabel('month')\n",
    "plt.ylabel('sum(count)')\n",
    "plt.legend(['2018', '2019'])\n",
    "plt.show()"
   ]
  }
 ],
 "metadata": {
  "kernelspec": {
   "display_name": "conda_python3",
   "language": "python",
   "name": "conda_python3"
  },
  "language_info": {
   "codemirror_mode": {
    "name": "ipython",
    "version": 3
   },
   "file_extension": ".py",
   "mimetype": "text/x-python",
   "name": "python",
   "nbconvert_exporter": "python",
   "pygments_lexer": "ipython3",
   "version": "3.6.13"
  }
 },
 "nbformat": 4,
 "nbformat_minor": 5
}
