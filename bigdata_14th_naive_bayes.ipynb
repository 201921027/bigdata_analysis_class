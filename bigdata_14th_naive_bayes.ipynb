{
 "cells": [
  {
   "cell_type": "markdown",
   "id": "5840b0a9",
   "metadata": {},
   "source": [
    "### (1) X, Y 데이터를 생성"
   ]
  },
  {
   "cell_type": "code",
   "execution_count": 1,
   "id": "e3548f55",
   "metadata": {},
   "outputs": [],
   "source": [
    "from sklearn.datasets import make_classification\n",
    "\n",
    "X, Y = make_classification(n_samples=100, n_features=2, n_informative=2, n_redundant=0)"
   ]
  },
  {
   "cell_type": "code",
   "execution_count": 2,
   "id": "c26b2cd8",
   "metadata": {},
   "outputs": [
    {
     "name": "stdout",
     "output_type": "stream",
     "text": [
      "[[ 0.37283707  1.06478724]\n",
      " [ 1.05096379 -0.67280237]\n",
      " [-0.84518842 -0.24172355]\n",
      " [-0.05115609 -1.57124908]\n",
      " [-1.51264853 -1.27040622]] \n",
      "\n",
      " [1 0 0 0 0]\n"
     ]
    }
   ],
   "source": [
    "print(X[:5],'\\n\\n' ,Y[:5])"
   ]
  },
  {
   "cell_type": "markdown",
   "id": "d0bab581",
   "metadata": {},
   "source": [
    "### (2) X의 평균과 표준편차 계산해서 출력"
   ]
  },
  {
   "cell_type": "code",
   "execution_count": 3,
   "id": "7f53cbe5",
   "metadata": {},
   "outputs": [],
   "source": [
    "mu= X.mean()\n",
    "std= X.std()"
   ]
  },
  {
   "cell_type": "code",
   "execution_count": 4,
   "id": "ef017fd7",
   "metadata": {},
   "outputs": [
    {
     "name": "stdout",
     "output_type": "stream",
     "text": [
      "X의 평균: -0.05015184320852537 \n",
      "X의 표준편차 1.3712058554802127\n"
     ]
    }
   ],
   "source": [
    "print('X의 평균:', mu, '\\nX의 표준편차', std)"
   ]
  },
  {
   "cell_type": "markdown",
   "id": "093ea9c6",
   "metadata": {},
   "source": [
    "### (3) 그래프 작성"
   ]
  },
  {
   "cell_type": "code",
   "execution_count": 5,
   "id": "9006fcd7",
   "metadata": {},
   "outputs": [
    {
     "data": {
      "image/png": "[encoded data removed]",
      "text/plain": [
       "<Figure size 432x288 with 1 Axes>"
      ]
     },
     "metadata": {
      "needs_background": "light"
     },
     "output_type": "display_data"
    }
   ],
   "source": [
    "import matplotlib.pyplot as plt\n",
    "\n",
    "plt.scatter(X[:,0], X[:, 1], c=Y)\n",
    "plt.show()"
   ]
  },
  {
   "cell_type": "markdown",
   "id": "3512733d",
   "metadata": {},
   "source": [
    "### (4) 훈련데이터, 테스트데이터 3:1로 분리"
   ]
  },
  {
   "cell_type": "code",
   "execution_count": 6,
   "id": "118afb15",
   "metadata": {},
   "outputs": [],
   "source": [
    "from sklearn.model_selection import train_test_split\n",
    "\n",
    "X_train, X_test, Y_train, Y_test= train_test_split(X, Y, test_size=0.25) # test_size= 1/4"
   ]
  },
  {
   "cell_type": "markdown",
   "id": "5af86422",
   "metadata": {},
   "source": [
    "### (5) 훈련데이터에 대하여 BernoulliNB 모델링"
   ]
  },
  {
   "cell_type": "code",
   "execution_count": 7,
   "id": "92eadf2a",
   "metadata": {},
   "outputs": [],
   "source": [
    "from sklearn.naive_bayes import BernoulliNB\n",
    "\n",
    "bnb= BernoulliNB(binarize= 0.0) #binarize= 0.0 -> 이진수로 모델링"
   ]
  },
  {
   "cell_type": "code",
   "execution_count": 8,
   "id": "4ab410f9",
   "metadata": {},
   "outputs": [
    {
     "data": {
      "text/plain": [
       "BernoulliNB()"
      ]
     },
     "execution_count": 8,
     "metadata": {},
     "output_type": "execute_result"
    }
   ],
   "source": [
    "bnb.fit(X_train, Y_train)"
   ]
  },
  {
   "cell_type": "markdown",
   "id": "76f8f0a3",
   "metadata": {},
   "source": [
    "### (6) 테스트데이터에 대하여 예측값을 출력"
   ]
  },
  {
   "cell_type": "code",
   "execution_count": 9,
   "id": "bad021b9",
   "metadata": {},
   "outputs": [],
   "source": [
    "yhat= bnb.predict(X_test)\n",
    "predict_result= list(zip(X_test, yhat))"
   ]
  },
  {
   "cell_type": "code",
   "execution_count": 10,
   "id": "48a1e030",
   "metadata": {},
   "outputs": [
    {
     "name": "stdout",
     "output_type": "stream",
     "text": [
      "X_test:  [ 1.05096379 -0.67280237] \t\tpredict:  0\n",
      "X_test:  [-0.60505991 -1.17122392] \t\tpredict:  0\n",
      "X_test:  [-2.06606416  1.08897385] \t\tpredict:  1\n",
      "X_test:  [ 0.93416465 -0.49350044] \t\tpredict:  0\n",
      "X_test:  [0.24672345 0.93949352] \t\tpredict:  1\n",
      "X_test:  [-2.58887283  1.00616559] \t\tpredict:  1\n",
      "X_test:  [-0.76065487  1.22995661] \t\tpredict:  1\n",
      "X_test:  [-1.62226557 -1.39574398] \t\tpredict:  0\n",
      "X_test:  [-2.61474199  0.8942817 ] \t\tpredict:  1\n",
      "X_test:  [1.93539716 0.9709696 ] \t\tpredict:  1\n",
      "X_test:  [1.67346655 1.98414599] \t\tpredict:  1\n",
      "X_test:  [2.0494729  2.41104241] \t\tpredict:  1\n",
      "X_test:  [-0.97422526 -0.4780518 ] \t\tpredict:  0\n",
      "X_test:  [-1.51264853 -1.27040622] \t\tpredict:  0\n",
      "X_test:  [2.09654182 0.32884961] \t\tpredict:  1\n",
      "X_test:  [-0.70937444 -1.86452404] \t\tpredict:  0\n",
      "X_test:  [0.45383657 1.13933216] \t\tpredict:  1\n",
      "X_test:  [0.58462863 0.02429087] \t\tpredict:  1\n",
      "X_test:  [0.81830749 0.81436007] \t\tpredict:  1\n",
      "X_test:  [-0.15273129 -2.04036494] \t\tpredict:  0\n",
      "X_test:  [-0.46529015  0.52519112] \t\tpredict:  1\n",
      "X_test:  [-1.28620295  0.68331237] \t\tpredict:  1\n",
      "X_test:  [-2.66235484  0.96884455] \t\tpredict:  1\n",
      "X_test:  [ 0.84774986 -0.87496077] \t\tpredict:  0\n",
      "X_test:  [1.86359272 0.99897084] \t\tpredict:  1\n"
     ]
    }
   ],
   "source": [
    "for row in predict_result:\n",
    "    print('X_test: ', row[0], '\\t\\tpredict: ', row[1])"
   ]
  },
  {
   "cell_type": "markdown",
   "id": "22fb0b2d",
   "metadata": {},
   "source": [
    "### (7) 테스트데이터에 대하여 예측과 실제의 정확성 출력"
   ]
  },
  {
   "cell_type": "code",
   "execution_count": 11,
   "id": "83c1e5ce",
   "metadata": {},
   "outputs": [],
   "source": [
    "X_yhat_y= list(zip(X_test, yhat, Y_test))"
   ]
  },
  {
   "cell_type": "code",
   "execution_count": 12,
   "id": "ea581df8",
   "metadata": {},
   "outputs": [
    {
     "name": "stdout",
     "output_type": "stream",
     "text": [
      "X_test:  [ 1.05096379 -0.67280237] \t\tpredict:  0 \tlabel:  0\n",
      "X_test:  [-0.60505991 -1.17122392] \t\tpredict:  0 \tlabel:  0\n",
      "X_test:  [-2.06606416  1.08897385] \t\tpredict:  1 \tlabel:  1\n",
      "X_test:  [ 0.93416465 -0.49350044] \t\tpredict:  0 \tlabel:  0\n",
      "X_test:  [0.24672345 0.93949352] \t\tpredict:  1 \tlabel:  0\n",
      "X_test:  [-2.58887283  1.00616559] \t\tpredict:  1 \tlabel:  1\n",
      "X_test:  [-0.76065487  1.22995661] \t\tpredict:  1 \tlabel:  1\n",
      "X_test:  [-1.62226557 -1.39574398] \t\tpredict:  0 \tlabel:  0\n",
      "X_test:  [-2.61474199  0.8942817 ] \t\tpredict:  1 \tlabel:  1\n",
      "X_test:  [1.93539716 0.9709696 ] \t\tpredict:  1 \tlabel:  1\n",
      "X_test:  [1.67346655 1.98414599] \t\tpredict:  1 \tlabel:  1\n",
      "X_test:  [2.0494729  2.41104241] \t\tpredict:  1 \tlabel:  1\n",
      "X_test:  [-0.97422526 -0.4780518 ] \t\tpredict:  0 \tlabel:  0\n",
      "X_test:  [-1.51264853 -1.27040622] \t\tpredict:  0 \tlabel:  0\n",
      "X_test:  [2.09654182 0.32884961] \t\tpredict:  1 \tlabel:  1\n",
      "X_test:  [-0.70937444 -1.86452404] \t\tpredict:  0 \tlabel:  0\n",
      "X_test:  [0.45383657 1.13933216] \t\tpredict:  1 \tlabel:  1\n",
      "X_test:  [0.58462863 0.02429087] \t\tpredict:  1 \tlabel:  0\n",
      "X_test:  [0.81830749 0.81436007] \t\tpredict:  1 \tlabel:  1\n",
      "X_test:  [-0.15273129 -2.04036494] \t\tpredict:  0 \tlabel:  0\n",
      "X_test:  [-0.46529015  0.52519112] \t\tpredict:  1 \tlabel:  1\n",
      "X_test:  [-1.28620295  0.68331237] \t\tpredict:  1 \tlabel:  1\n",
      "X_test:  [-2.66235484  0.96884455] \t\tpredict:  1 \tlabel:  1\n",
      "X_test:  [ 0.84774986 -0.87496077] \t\tpredict:  0 \tlabel:  0\n",
      "X_test:  [1.86359272 0.99897084] \t\tpredict:  1 \tlabel:  1\n"
     ]
    }
   ],
   "source": [
    "for row in X_yhat_y:\n",
    "    print('X_test: ', row[0], '\\t\\tpredict: ', row[1], '\\tlabel: ', row[2])"
   ]
  },
  {
   "cell_type": "code",
   "execution_count": 13,
   "id": "84052e06",
   "metadata": {},
   "outputs": [
    {
     "name": "stdout",
     "output_type": "stream",
     "text": [
      "정확성:  0.92\n"
     ]
    }
   ],
   "source": [
    "acc= bnb.score(X_test, Y_test)\n",
    "print('정확성: ', acc)"
   ]
  }
 ],
 "metadata": {
  "kernelspec": {
   "display_name": "conda_python3",
   "language": "python",
   "name": "conda_python3"
  },
  "language_info": {
   "codemirror_mode": {
    "name": "ipython",
    "version": 3
   },
   "file_extension": ".py",
   "mimetype": "text/x-python",
   "name": "python",
   "nbconvert_exporter": "python",
   "pygments_lexer": "ipython3",
   "version": "3.6.13"
  }
 },
 "nbformat": 4,
 "nbformat_minor": 5
}
