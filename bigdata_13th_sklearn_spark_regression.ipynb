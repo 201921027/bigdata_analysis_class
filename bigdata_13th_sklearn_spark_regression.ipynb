{
 "cells": [
  {
   "cell_type": "markdown",
   "id": "0351aca0",
   "metadata": {},
   "source": [
    "### (1) DataFrame 생성"
   ]
  },
  {
   "cell_type": "code",
   "execution_count": 1,
   "id": "b3b6f362",
   "metadata": {},
   "outputs": [],
   "source": [
    "import pandas as pd\n",
    "\n",
    "file_name = \"https://archive.ics.uci.edu/ml/machine-learning-databases/iris/iris.data\"\n",
    "iris = pd.read_csv(file_name, names=[\"sepal_length\",\"sepal_width\",\"petal_length\", \"petal_width\",\"species\"])"
   ]
  },
  {
   "cell_type": "code",
   "execution_count": 22,
   "id": "95087a2c",
   "metadata": {},
   "outputs": [
    {
     "data": {
      "text/html": [
       "<div>\n",
       "<style scoped>\n",
       "    .dataframe tbody tr th:only-of-type {\n",
       "        vertical-align: middle;\n",
       "    }\n",
       "\n",
       "    .dataframe tbody tr th {\n",
       "        vertical-align: top;\n",
       "    }\n",
       "\n",
       "    .dataframe thead th {\n",
       "        text-align: right;\n",
       "    }\n",
       "</style>\n",
       "<table border=\"1\" class=\"dataframe\">\n",
       "  <thead>\n",
       "    <tr style=\"text-align: right;\">\n",
       "      <th></th>\n",
       "      <th>sepal_length</th>\n",
       "      <th>sepal_width</th>\n",
       "      <th>petal_length</th>\n",
       "      <th>petal_width</th>\n",
       "      <th>species</th>\n",
       "    </tr>\n",
       "  </thead>\n",
       "  <tbody>\n",
       "    <tr>\n",
       "      <th>0</th>\n",
       "      <td>5.1</td>\n",
       "      <td>3.5</td>\n",
       "      <td>1.4</td>\n",
       "      <td>0.2</td>\n",
       "      <td>Iris-setosa</td>\n",
       "    </tr>\n",
       "    <tr>\n",
       "      <th>1</th>\n",
       "      <td>4.9</td>\n",
       "      <td>3.0</td>\n",
       "      <td>1.4</td>\n",
       "      <td>0.2</td>\n",
       "      <td>Iris-setosa</td>\n",
       "    </tr>\n",
       "    <tr>\n",
       "      <th>2</th>\n",
       "      <td>4.7</td>\n",
       "      <td>3.2</td>\n",
       "      <td>1.3</td>\n",
       "      <td>0.2</td>\n",
       "      <td>Iris-setosa</td>\n",
       "    </tr>\n",
       "    <tr>\n",
       "      <th>3</th>\n",
       "      <td>4.6</td>\n",
       "      <td>3.1</td>\n",
       "      <td>1.5</td>\n",
       "      <td>0.2</td>\n",
       "      <td>Iris-setosa</td>\n",
       "    </tr>\n",
       "    <tr>\n",
       "      <th>4</th>\n",
       "      <td>5.0</td>\n",
       "      <td>3.6</td>\n",
       "      <td>1.4</td>\n",
       "      <td>0.2</td>\n",
       "      <td>Iris-setosa</td>\n",
       "    </tr>\n",
       "  </tbody>\n",
       "</table>\n",
       "</div>"
      ],
      "text/plain": [
       "   sepal_length  sepal_width  petal_length  petal_width      species\n",
       "0           5.1          3.5           1.4          0.2  Iris-setosa\n",
       "1           4.9          3.0           1.4          0.2  Iris-setosa\n",
       "2           4.7          3.2           1.3          0.2  Iris-setosa\n",
       "3           4.6          3.1           1.5          0.2  Iris-setosa\n",
       "4           5.0          3.6           1.4          0.2  Iris-setosa"
      ]
     },
     "execution_count": 22,
     "metadata": {},
     "output_type": "execute_result"
    }
   ],
   "source": [
    "iris.head()"
   ]
  },
  {
   "cell_type": "markdown",
   "id": "6c5f0967",
   "metadata": {},
   "source": [
    "### (2) 회귀선 그래프"
   ]
  },
  {
   "cell_type": "markdown",
   "id": "69883b15",
   "metadata": {},
   "source": [
    "독립변수: petal_length 컬럼 (input: x)\n",
    "\n",
    "종속변수: petal_width 컬럼 (output: y)"
   ]
  },
  {
   "cell_type": "code",
   "execution_count": 12,
   "id": "1b8286d3",
   "metadata": {
    "scrolled": true
   },
   "outputs": [],
   "source": [
    "iris_lr= iris[['petal_length', 'petal_width']]"
   ]
  },
  {
   "cell_type": "code",
   "execution_count": 18,
   "id": "bc2ca246",
   "metadata": {},
   "outputs": [],
   "source": [
    "# 훈련, 테스트 데이터 분리\n",
    "from sklearn.model_selection import train_test_split\n",
    "train, test= train_test_split(iris_lr, train_size=0.8)"
   ]
  },
  {
   "cell_type": "code",
   "execution_count": 19,
   "id": "dd8d9b8e",
   "metadata": {},
   "outputs": [],
   "source": [
    "xtrain= train['petal_length']\n",
    "ytrain= train['petal_width']\n",
    "xtest= test['petal_length']\n",
    "ytest= test['petal_width']"
   ]
  },
  {
   "cell_type": "code",
   "execution_count": 50,
   "id": "600da52d",
   "metadata": {},
   "outputs": [
    {
     "name": "stdout",
     "output_type": "stream",
     "text": [
      "18     1.7\n",
      "115    5.3\n",
      "62     4.0\n",
      "19     1.5\n",
      "75     4.4\n",
      "Name: petal_length, dtype: float64 \n",
      " <class 'pandas.core.series.Series'>\n",
      "\n",
      "18     0.3\n",
      "115    2.3\n",
      "62     1.0\n",
      "19     0.3\n",
      "75     1.4\n",
      "Name: petal_width, dtype: float64\n"
     ]
    }
   ],
   "source": [
    "print(xtrain.head(), '\\n', type(xtrain), end='\\n\\n')\n",
    "print(ytrain.head())"
   ]
  },
  {
   "cell_type": "code",
   "execution_count": 75,
   "id": "f1761b0f",
   "metadata": {},
   "outputs": [],
   "source": [
    "import numpy as np\n",
    "_xtrainf= xtrain.to_numpy\n",
    "_xtrain= _xtrainf()\n",
    "_xtrain= _xtrain.reshape(-1, 1)\n",
    "# print(_xtrain)\n",
    "\n",
    "_xtestf= xtest.to_numpy\n",
    "_xtest= _xtestf()\n",
    "_xtest= _xtest.reshape(-1, 1)"
   ]
  },
  {
   "cell_type": "code",
   "execution_count": 45,
   "id": "e4ceceb7",
   "metadata": {
    "scrolled": true
   },
   "outputs": [],
   "source": [
    "# 회귀 모델링\n",
    "from sklearn import linear_model\n",
    "regression= linear_model.LinearRegression()\n",
    "trainModel= regression.fit(_xtrain, ytrain)"
   ]
  },
  {
   "cell_type": "code",
   "execution_count": 72,
   "id": "06dfdff4",
   "metadata": {},
   "outputs": [
    {
     "name": "stdout",
     "output_type": "stream",
     "text": [
      "petal_length [0.4154677]\n"
     ]
    }
   ],
   "source": [
    "print(xtrain.name[:], regression.coef_)"
   ]
  },
  {
   "cell_type": "code",
   "execution_count": 80,
   "id": "4a72683d",
   "metadata": {},
   "outputs": [
    {
     "data": {
      "text/plain": [
       "[<matplotlib.lines.Line2D at 0x7f320a069358>]"
      ]
     },
     "execution_count": 80,
     "metadata": {},
     "output_type": "execute_result"
    },
    {
     "data": {
      "image/png": "[encoded data removed]",
      "text/plain": [
       "<Figure size 432x288 with 1 Axes>"
      ]
     },
     "metadata": {
      "needs_background": "light"
     },
     "output_type": "display_data"
    }
   ],
   "source": [
    "import matplotlib.pyplot as plt\n",
    "\n",
    "fig= plt.figure()\n",
    "ax= fig.add_subplot(111)\n",
    "ax.scatter(ytest, ypred)\n",
    "ax.set_ylabel('yhat')\n",
    "ax.set_xlabel('y')\n",
    "ax.plot(ytest, ytest)"
   ]
  },
  {
   "cell_type": "markdown",
   "id": "b8d7e4ca",
   "metadata": {},
   "source": [
    "### (3) Spark를 사용하여 회귀분석하고 계수 출력"
   ]
  },
  {
   "cell_type": "code",
   "execution_count": 81,
   "id": "38a298a3",
   "metadata": {},
   "outputs": [],
   "source": [
    "import pyspark\n",
    "myConf= pyspark.SparkConf()\n",
    "\n",
    "spark= pyspark.sql.SparkSession\\\n",
    ".builder\\\n",
    ".master(\"local\")\\\n",
    ".appName(\"myAPP\")\\\n",
    ".config(conf=myConf)\\\n",
    ".getOrCreate()"
   ]
  },
  {
   "cell_type": "code",
   "execution_count": 82,
   "id": "c94eae82",
   "metadata": {},
   "outputs": [],
   "source": [
    "irisDf= spark.createDataFrame(iris)"
   ]
  },
  {
   "cell_type": "code",
   "execution_count": 83,
   "id": "cce539f0",
   "metadata": {},
   "outputs": [],
   "source": [
    "irisDf= irisDf.select('petal_length', 'petal_width')"
   ]
  },
  {
   "cell_type": "code",
   "execution_count": 86,
   "id": "1e0b3bbf",
   "metadata": {},
   "outputs": [
    {
     "name": "stdout",
     "output_type": "stream",
     "text": [
      "+------------+-----------+\n",
      "|petal_length|petal_width|\n",
      "+------------+-----------+\n",
      "|         1.4|        0.2|\n",
      "|         1.4|        0.2|\n",
      "|         1.3|        0.2|\n",
      "|         1.5|        0.2|\n",
      "|         1.4|        0.2|\n",
      "+------------+-----------+\n",
      "only showing top 5 rows\n",
      "\n"
     ]
    }
   ],
   "source": [
    "irisDf.show(5)"
   ]
  },
  {
   "cell_type": "code",
   "execution_count": 87,
   "id": "aff558e8",
   "metadata": {},
   "outputs": [],
   "source": [
    "# 훈련, 테스트 데이터 분리\n",
    "(trainDf, testDf)= irisDf.randomSplit([0.8, 0.2])"
   ]
  },
  {
   "cell_type": "code",
   "execution_count": 88,
   "id": "48ec4189",
   "metadata": {},
   "outputs": [],
   "source": [
    "from pyspark.ml.feature import VectorAssembler\n",
    "va= VectorAssembler(inputCols= ['petal_length'], outputCol='feature')"
   ]
  },
  {
   "cell_type": "code",
   "execution_count": 92,
   "id": "651ee468",
   "metadata": {},
   "outputs": [],
   "source": [
    "from pyspark.ml.regression import LinearRegression\n",
    "lr= LinearRegression(featuresCol='feature', labelCol='petal_width', maxIter=10, regParam=0.3, elasticNetParam=0.8)"
   ]
  },
  {
   "cell_type": "code",
   "execution_count": 93,
   "id": "383c955c",
   "metadata": {},
   "outputs": [],
   "source": [
    "from pyspark.ml import Pipeline\n",
    "pipeline= Pipeline(stages=[va, lr])"
   ]
  },
  {
   "cell_type": "code",
   "execution_count": 94,
   "id": "714c126f",
   "metadata": {},
   "outputs": [],
   "source": [
    "model= pipeline.fit(trainDf)\n",
    "modelTrainDf= model.transform(trainDf)"
   ]
  },
  {
   "cell_type": "code",
   "execution_count": 95,
   "id": "b96624f6",
   "metadata": {},
   "outputs": [
    {
     "name": "stdout",
     "output_type": "stream",
     "text": [
      "계수:  [0.2543850978272763]\n"
     ]
    }
   ],
   "source": [
    "print(\"계수: \", model.stages[-1].coefficients)"
   ]
  },
  {
   "cell_type": "markdown",
   "id": "8024df32",
   "metadata": {},
   "source": [
    "### (4) 실제와 예측 출력"
   ]
  },
  {
   "cell_type": "markdown",
   "id": "67acb8e8",
   "metadata": {},
   "source": [
    "* sklearn"
   ]
  },
  {
   "cell_type": "code",
   "execution_count": 96,
   "id": "48b9e717",
   "metadata": {},
   "outputs": [],
   "source": [
    "ypred= regression.predict(_xtest)"
   ]
  },
  {
   "cell_type": "code",
   "execution_count": 97,
   "id": "10a4f7c8",
   "metadata": {},
   "outputs": [],
   "source": [
    "y_actual_pred= pd.DataFrame({'y': ytest, 'yhat': ypred.flatten()})"
   ]
  },
  {
   "cell_type": "code",
   "execution_count": 98,
   "id": "72a8242c",
   "metadata": {},
   "outputs": [
    {
     "data": {
      "text/html": [
       "<div>\n",
       "<style scoped>\n",
       "    .dataframe tbody tr th:only-of-type {\n",
       "        vertical-align: middle;\n",
       "    }\n",
       "\n",
       "    .dataframe tbody tr th {\n",
       "        vertical-align: top;\n",
       "    }\n",
       "\n",
       "    .dataframe thead th {\n",
       "        text-align: right;\n",
       "    }\n",
       "</style>\n",
       "<table border=\"1\" class=\"dataframe\">\n",
       "  <thead>\n",
       "    <tr style=\"text-align: right;\">\n",
       "      <th></th>\n",
       "      <th>y</th>\n",
       "      <th>yhat</th>\n",
       "    </tr>\n",
       "  </thead>\n",
       "  <tbody>\n",
       "    <tr>\n",
       "      <th>148</th>\n",
       "      <td>2.3</td>\n",
       "      <td>1.877103</td>\n",
       "    </tr>\n",
       "    <tr>\n",
       "      <th>82</th>\n",
       "      <td>1.2</td>\n",
       "      <td>1.253901</td>\n",
       "    </tr>\n",
       "    <tr>\n",
       "      <th>3</th>\n",
       "      <td>0.2</td>\n",
       "      <td>0.256779</td>\n",
       "    </tr>\n",
       "    <tr>\n",
       "      <th>85</th>\n",
       "      <td>1.6</td>\n",
       "      <td>1.503182</td>\n",
       "    </tr>\n",
       "    <tr>\n",
       "      <th>103</th>\n",
       "      <td>1.8</td>\n",
       "      <td>1.960196</td>\n",
       "    </tr>\n",
       "  </tbody>\n",
       "</table>\n",
       "</div>"
      ],
      "text/plain": [
       "       y      yhat\n",
       "148  2.3  1.877103\n",
       "82   1.2  1.253901\n",
       "3    0.2  0.256779\n",
       "85   1.6  1.503182\n",
       "103  1.8  1.960196"
      ]
     },
     "execution_count": 98,
     "metadata": {},
     "output_type": "execute_result"
    }
   ],
   "source": [
    "y_actual_pred.head()"
   ]
  },
  {
   "cell_type": "markdown",
   "id": "c0c2640c",
   "metadata": {},
   "source": [
    "\n",
    "\n",
    "* spark"
   ]
  },
  {
   "cell_type": "code",
   "execution_count": 99,
   "id": "61fe4d14",
   "metadata": {},
   "outputs": [],
   "source": [
    "modelTestDf= model.transform(testDf)"
   ]
  },
  {
   "cell_type": "code",
   "execution_count": 101,
   "id": "0e3cb474",
   "metadata": {
    "scrolled": true
   },
   "outputs": [
    {
     "name": "stdout",
     "output_type": "stream",
     "text": [
      "+-----------+------------------+\n",
      "|petal_width|        prediction|\n",
      "+-----------+------------------+\n",
      "|        0.1|0.6128512086667042|\n",
      "|        0.2|0.6128512086667042|\n",
      "|        0.2|0.6128512086667042|\n",
      "|        0.2|0.6128512086667042|\n",
      "|        0.1|0.6382897184494318|\n",
      "|        0.1|0.6382897184494318|\n",
      "|        0.2|0.6382897184494318|\n",
      "|        0.2|0.6382897184494318|\n",
      "|        0.3|0.6382897184494318|\n",
      "|        0.2|0.6637282282321595|\n",
      "|        0.4|0.6637282282321595|\n",
      "|        1.1|1.0198673651903463|\n",
      "|        1.4| 1.248813953234895|\n",
      "|        1.0|  1.29969097280035|\n",
      "|        1.2|1.3760065021485333|\n",
      "|        1.5|1.4014450119312607|\n",
      "|        1.5|1.4268835217139884|\n",
      "|        1.8|1.5031990510621713|\n",
      "|        1.8| 1.655830109758537|\n",
      "|        2.1|1.7067071293239924|\n",
      "+-----------+------------------+\n",
      "only showing top 20 rows\n",
      "\n"
     ]
    }
   ],
   "source": [
    "modelTestDf.select('petal_width', 'prediction').show()"
   ]
  },
  {
   "cell_type": "markdown",
   "id": "4f922f1e",
   "metadata": {},
   "source": [
    "### (5) 정확성 평가하고 출력"
   ]
  },
  {
   "cell_type": "markdown",
   "id": "4745d513",
   "metadata": {},
   "source": [
    "* sklearn"
   ]
  },
  {
   "cell_type": "code",
   "execution_count": 103,
   "id": "1a098c09",
   "metadata": {},
   "outputs": [],
   "source": [
    "sk_acc= regression.score(_xtest, ytest)"
   ]
  },
  {
   "cell_type": "code",
   "execution_count": 111,
   "id": "50f16479",
   "metadata": {},
   "outputs": [
    {
     "name": "stdout",
     "output_type": "stream",
     "text": [
      "sklearn' accuracy: 93.32%\n"
     ]
    }
   ],
   "source": [
    "print('sklearn\\' accuracy: {:.2f}%'.format(sk_acc*100))"
   ]
  },
  {
   "cell_type": "markdown",
   "id": "762a7c39",
   "metadata": {},
   "source": [
    "* spark"
   ]
  },
  {
   "cell_type": "code",
   "execution_count": 108,
   "id": "e251695f",
   "metadata": {},
   "outputs": [],
   "source": [
    "from pyspark.ml.evaluation import RegressionEvaluator\n",
    "evauator= RegressionEvaluator(labelCol='petal_width', predictionCol='prediction', metricName='r2')"
   ]
  },
  {
   "cell_type": "code",
   "execution_count": 112,
   "id": "d60114ec",
   "metadata": {},
   "outputs": [
    {
     "name": "stdout",
     "output_type": "stream",
     "text": [
      "spark' accuracy: 37.78%\n"
     ]
    }
   ],
   "source": [
    "sp_acc= evauator.evaluate(modelTestDf)\n",
    "print('spark\\' accuracy: {:.2f}%'.format(sp_acc*100))"
   ]
  },
  {
   "cell_type": "code",
   "execution_count": null,
   "id": "07509245",
   "metadata": {},
   "outputs": [],
   "source": []
  }
 ],
 "metadata": {
  "kernelspec": {
   "display_name": "conda_python3",
   "language": "python",
   "name": "conda_python3"
  },
  "language_info": {
   "codemirror_mode": {
    "name": "ipython",
    "version": 3
   },
   "file_extension": ".py",
   "mimetype": "text/x-python",
   "name": "python",
   "nbconvert_exporter": "python",
   "pygments_lexer": "ipython3",
   "version": "3.6.13"
  }
 },
 "nbformat": 4,
 "nbformat_minor": 5
}
